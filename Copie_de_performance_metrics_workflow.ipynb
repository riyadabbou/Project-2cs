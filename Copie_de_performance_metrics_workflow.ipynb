{
  "cells": [
    {
      "cell_type": "markdown",
      "source": [],
      "metadata": {
        "id": "uyD75A7uUQC5"
      },
      "id": "uyD75A7uUQC5"
    },
    {
      "cell_type": "code",
      "execution_count": null,
      "metadata": {
        "id": "kbbe-TV4UG5C"
      },
      "outputs": [],
      "source": [
        "import os"
      ],
      "id": "kbbe-TV4UG5C"
    },
    {
      "cell_type": "code",
      "execution_count": null,
      "metadata": {
        "id": "0sbyuojFUG5F",
        "outputId": "7410b952-a66c-4d20-82bb-042f493e3568",
        "colab": {
          "base_uri": "https://localhost:8080/"
        }
      },
      "outputs": [
        {
          "output_type": "stream",
          "name": "stdout",
          "text": [
            "Drive already mounted at /content/drive; to attempt to forcibly remount, call drive.mount(\"/content/drive\", force_remount=True).\n"
          ]
        }
      ],
      "source": [
        "try:\n",
        "    from google.colab import drive\n",
        "    drive.mount('/content/drive')\n",
        "    assert os.path.exists('/content/drive/MyDrive/Public WorldFloods Dataset/Untitled Folder'), \"Add a shortcut to the publice Google Drive folder: https://drive.google.com/drive/u/0/folders/1dqFYWetX614r49kuVE3CbZwVO6qHvRVH\"\n",
        "    google_colab = True\n",
        "    path_to_dataset_folder = '/content/drive/MyDrive/Public WorldFloods Dataset/Untitled Folder'\n",
        "    dataset_folder = os.path.join(path_to_dataset_folder, \"worldfloods_v1_0_sample\")\n",
        "    experiment_name = \"WFV1_unet\"\n",
        "    folder_name_model_weights = os.path.join(dataset_folder,\"checkpoints\", experiment_name)\n",
        "except ImportError as e:\n",
        "    print(e)\n",
        "    print(\"Setting google colab to false, it will need to install the gdown package!\")\n",
        "    google_colab = False"
      ],
      "id": "0sbyuojFUG5F"
    },
    {
      "cell_type": "markdown",
      "metadata": {
        "id": "iDtHQ0hrUG5G"
      },
      "source": [
        "### Step 0b:\n"
      ],
      "id": "iDtHQ0hrUG5G"
    },
    {
      "cell_type": "code",
      "execution_count": null,
      "metadata": {
        "id": "AQ6e06fMUG5H"
      },
      "outputs": [],
      "source": [
        "\n",
        "# Download pre-trained model from Google Drive folder\n",
        "\n",
        "if not google_colab:\n",
        "    experiment_name = \"WFV1_unet\"\n",
        "    # Download val folder\n",
        "    path_to_dataset_folder = '.'\n",
        "    dataset_folder = os.path.join(path_to_dataset_folder, \"worldfloods_v1_0_sample\")\n",
        "    folder_name_model_weights = os.path.join(path_to_dataset_folder, experiment_name)\n",
        "    if not os.path.exists(folder_name_model_weights):\n",
        "        import gdown\n",
        "        gdown.download_folder(id=\"1Oup-qVD1U-re3lIQkw7TOKJsdu90blsk\", quiet=False, use_cookies=False,\n",
        "                              output=folder_name_model_weights)\n",
        "\n",
        "    # Download val folder\n",
        "    test_folder = os.path.join(dataset_folder, \"test\")\n",
        "    if not os.path.exists(test_folder):\n",
        "        import gdown\n",
        "        os.makedirs(test_folder, exist_ok=True)\n",
        "        # https://drive.google.com/drive/folders/1Bp1FXppikOpQrgth2lu5WjpYX7Lb2qOW?usp=sharing\n",
        "        gdown.download_folder(id=\"1Bp1FXppikOpQrgth2lu5WjpYX7Lb2qOW\", quiet=False, use_cookies=False,\n",
        "                              output=test_folder)"
      ],
      "id": "AQ6e06fMUG5H"
    },
    {
      "cell_type": "markdown",
      "metadata": {
        "id": "iA-oLV-7UG5J"
      },
      "source": [
        "## Step 1: Get config"
      ],
      "id": "iA-oLV-7UG5J"
    },
    {
      "cell_type": "code",
      "execution_count": null,
      "metadata": {
        "tags": [],
        "id": "Hq3gyI2oUG5L"
      },
      "outputs": [],
      "source": [
        "from ml4floods.models.config_setup import get_default_config\n",
        "\n",
        "config_fp = os.path.join(folder_name_model_weights, \"config.json\")\n",
        "# config_fp = f\"gs://ml4cc_data_lake/2_PROD/2_Mart/2_MLModelMart/{experiment_name}/config.json\"\n",
        "config = get_default_config(config_fp)\n",
        "config[\"model_params\"][\"max_tile_size\"] = 1024"
      ],
      "id": "Hq3gyI2oUG5L"
    },
    {
      "cell_type": "markdown",
      "metadata": {
        "id": "BtAr46cXUG5P"
      },
      "source": [
        "## Step 2: Load dataloader"
      ],
      "id": "BtAr46cXUG5P"
    },
    {
      "cell_type": "code",
      "execution_count": null,
      "metadata": {
        "id": "dF_7nLmpUG5R"
      },
      "outputs": [],
      "source": [
        "from ml4floods.models import dataset_setup\n",
        "\n",
        "config.data_params.loader_type = 'local'\n",
        "config.data_params.path_to_splits = dataset_folder # local folder to download the data\n",
        "config.data_params.bucket_id = \"\"\n",
        "config.data_params.train_test_split_file = None\n",
        "\n",
        "if \"filter_windows\" in config[\"data_params\"]:\n",
        "    del config[\"data_params\"][\"filter_windows\"]\n"
      ],
      "id": "dF_7nLmpUG5R"
    },
    {
      "cell_type": "code",
      "execution_count": null,
      "metadata": {
        "tags": [],
        "id": "9SrduORmUG5S",
        "outputId": "fd08ebd4-1303-4fcd-a3a4-17394f36f2b7",
        "colab": {
          "base_uri": "https://localhost:8080/"
        }
      },
      "outputs": [
        {
          "output_type": "stream",
          "name": "stdout",
          "text": [
            "There are 11 images in the dataset\n"
          ]
        }
      ],
      "source": [
        "from ml4floods.data.worldfloods.dataset import WorldFloodsDatasetTiled, WorldFloodsDataset\n",
        "from glob import glob\n",
        "from ml4floods.models.model_setup import get_channel_configuration_bands\n",
        "\n",
        "bands_read_s2 = get_channel_configuration_bands(config.data_params.channel_configuration)\n",
        "test_files = glob(os.path.join(dataset_folder, \"test\",\"S2\", \"*.tif\"))\n",
        "\n",
        "train_transforms, test_transforms = dataset_setup.get_transformations(config.data_params)\n",
        "\n",
        "test_transforms.is_check_shapes = False\n",
        "\n",
        "test_dataset = WorldFloodsDataset(\n",
        "            image_files=test_files,\n",
        "            image_prefix=\"/S2/\",\n",
        "            gt_prefix=\"/gt/\",\n",
        "            bands=bands_read_s2,\n",
        "            transforms=test_transforms,\n",
        "            lock_read=False\n",
        "        )\n",
        "print(f\"There are {len(test_dataset)} images in the dataset\")"
      ],
      "id": "9SrduORmUG5S"
    },
    {
      "cell_type": "code",
      "execution_count": null,
      "metadata": {
        "id": "lMx2jcbvUG5U"
      },
      "outputs": [],
      "source": [
        "from torch.utils.data import DataLoader\n",
        "dl = DataLoader(test_dataset, batch_size=1,\n",
        "                num_workers=1, shuffle=False)\n",
        "# dl = data_module.val_dataloader()"
      ],
      "id": "lMx2jcbvUG5U"
    },
    {
      "cell_type": "markdown",
      "metadata": {
        "id": "M68iq5K6UG5V"
      },
      "source": [
        "## Step 3: Load a trained model"
      ],
      "id": "M68iq5K6UG5V"
    },
    {
      "cell_type": "code",
      "execution_count": null,
      "metadata": {
        "id": "GvUMVBgBUG5W",
        "outputId": "593b9b03-47aa-4588-b67e-867d378c260f",
        "colab": {
          "base_uri": "https://localhost:8080/"
        }
      },
      "outputs": [
        {
          "output_type": "stream",
          "name": "stdout",
          "text": [
            "Loaded model weights: /content/drive/MyDrive/Public WorldFloods Dataset/Untitled Folder/worldfloods_v1_0_sample/checkpoints/WFV1_unet/model.pt\n"
          ]
        },
        {
          "output_type": "execute_result",
          "data": {
            "text/plain": [
              "WorldFloodsModel(\n",
              "  (network): UNet(\n",
              "    (dconv_down1): Sequential(\n",
              "      (0): Conv2d(13, 64, kernel_size=(3, 3), stride=(1, 1), padding=(1, 1))\n",
              "      (1): ReLU(inplace=True)\n",
              "      (2): Conv2d(64, 64, kernel_size=(3, 3), stride=(1, 1), padding=(1, 1))\n",
              "      (3): ReLU(inplace=True)\n",
              "    )\n",
              "    (dconv_down2): Sequential(\n",
              "      (0): Conv2d(64, 128, kernel_size=(3, 3), stride=(1, 1), padding=(1, 1))\n",
              "      (1): ReLU(inplace=True)\n",
              "      (2): Conv2d(128, 128, kernel_size=(3, 3), stride=(1, 1), padding=(1, 1))\n",
              "      (3): ReLU(inplace=True)\n",
              "    )\n",
              "    (dconv_down3): Sequential(\n",
              "      (0): Conv2d(128, 256, kernel_size=(3, 3), stride=(1, 1), padding=(1, 1))\n",
              "      (1): ReLU(inplace=True)\n",
              "      (2): Conv2d(256, 256, kernel_size=(3, 3), stride=(1, 1), padding=(1, 1))\n",
              "      (3): ReLU(inplace=True)\n",
              "    )\n",
              "    (dconv_down4): Sequential(\n",
              "      (0): Conv2d(256, 512, kernel_size=(3, 3), stride=(1, 1), padding=(1, 1))\n",
              "      (1): ReLU(inplace=True)\n",
              "      (2): Conv2d(512, 512, kernel_size=(3, 3), stride=(1, 1), padding=(1, 1))\n",
              "      (3): ReLU(inplace=True)\n",
              "    )\n",
              "    (maxpool): MaxPool2d(kernel_size=2, stride=2, padding=0, dilation=1, ceil_mode=False)\n",
              "    (dconv_up3): Sequential(\n",
              "      (0): Conv2d(768, 256, kernel_size=(3, 3), stride=(1, 1), padding=(1, 1))\n",
              "      (1): ReLU(inplace=True)\n",
              "      (2): Conv2d(256, 256, kernel_size=(3, 3), stride=(1, 1), padding=(1, 1))\n",
              "      (3): ReLU(inplace=True)\n",
              "    )\n",
              "    (dconv_up2): Sequential(\n",
              "      (0): Conv2d(384, 128, kernel_size=(3, 3), stride=(1, 1), padding=(1, 1))\n",
              "      (1): ReLU(inplace=True)\n",
              "      (2): Conv2d(128, 128, kernel_size=(3, 3), stride=(1, 1), padding=(1, 1))\n",
              "      (3): ReLU(inplace=True)\n",
              "    )\n",
              "    (dconv_up1): Sequential(\n",
              "      (0): Conv2d(192, 64, kernel_size=(3, 3), stride=(1, 1), padding=(1, 1))\n",
              "      (1): ReLU(inplace=True)\n",
              "      (2): Conv2d(64, 64, kernel_size=(3, 3), stride=(1, 1), padding=(1, 1))\n",
              "      (3): ReLU(inplace=True)\n",
              "    )\n",
              "    (conv_last): Conv2d(64, 3, kernel_size=(1, 1), stride=(1, 1))\n",
              "  )\n",
              ")"
            ]
          },
          "metadata": {},
          "execution_count": 15
        }
      ],
      "source": [
        "from ml4floods.models.model_setup import get_model\n",
        "\n",
        "model_folder = os.path.dirname(folder_name_model_weights)\n",
        "if model_folder == \"\":\n",
        "    model_folder = \".\"\n",
        "\n",
        "config[\"model_params\"]['model_folder'] = model_folder\n",
        "config[\"model_params\"]['test'] = True\n",
        "model = get_model(config.model_params, experiment_name)\n",
        "\n",
        "model.eval()\n",
        "model.to(\"cuda\")"
      ],
      "id": "GvUMVBgBUG5W"
    },
    {
      "cell_type": "markdown",
      "metadata": {
        "id": "5FsIk3HZUG5X"
      },
      "source": [
        "## Step 4: Run inference on all the images in the test dataset"
      ],
      "id": "5FsIk3HZUG5X"
    },
    {
      "cell_type": "code",
      "execution_count": null,
      "metadata": {
        "id": "6g0p1fwGUG5Y",
        "outputId": "db30ffad-f9d9-48dc-aa32-0d59917ac8c4",
        "colab": {
          "base_uri": "https://localhost:8080/"
        }
      },
      "outputs": [
        {
          "output_type": "stream",
          "name": "stdout",
          "text": [
            "Getting model inference function\n"
          ]
        }
      ],
      "source": [
        "from ml4floods.models.model_setup import get_model_inference_function\n",
        "\n",
        "if config[\"model_params\"].get(\"model_version\",\"v1\") == \"v2\":\n",
        "    inf_func = get_model_inference_function(model, config, apply_normalization=False,\n",
        "                                        activation=\"sigmoid\")\n",
        "    print(\"v2 inference function converted to v1\")\n",
        "    def inference_function(x):\n",
        "        dual_head_output = inf_func(x)\n",
        "        B, C, H, W = dual_head_output.shape\n",
        "        out = torch.zeros((B, 3, H, W),dtype=dual_head_output.dtype)\n",
        "        out[:, 2] = dual_head_output[:, 0]\n",
        "        out[:, 1] = (1 - dual_head_output[:, 0]) * dual_head_output[:, 1]\n",
        "        out[:, 0] = (1 - dual_head_output[:, 0]) * (1 - dual_head_output[:, 1])\n",
        "        return out\n",
        "else:\n",
        "    inference_function = get_model_inference_function(model, config, apply_normalization=False,\n",
        "                                                      activation=\"softmax\")"
      ],
      "id": "6g0p1fwGUG5Y"
    },
    {
      "cell_type": "code",
      "execution_count": null,
      "metadata": {
        "id": "FclOS_sRUG5Z",
        "outputId": "a9c8e909-41ff-4ef7-b007-0fc1086f1fb0",
        "colab": {
          "base_uri": "https://localhost:8080/",
          "height": 1000
        }
      },
      "outputs": [
        {
          "output_type": "stream",
          "name": "stderr",
          "text": [
            "100%|██████████| 11/11 [04:40<00:00, 25.54s/it]\n"
          ]
        },
        {
          "output_type": "display_data",
          "data": {
            "text/plain": [
              "<Figure size 1000x1000 with 2 Axes>"
            ],
            "image/png": "[encoded data removed]"
          },
          "metadata": {}
        },
        {
          "output_type": "display_data",
          "data": {
            "text/plain": [
              "<Figure size 1600x900 with 2 Axes>"
            ],
            "image/png": "[encoded data removed]"
          },
          "metadata": {}
        },
        {
          "output_type": "stream",
          "name": "stdout",
          "text": [
            "Per Class IOU {\n",
            "    \"cloud\": 0.9028652713386631,\n",
            "    \"land\": 0.8735444636585619,\n",
            "    \"water\": 0.7297707540199976\n",
            "}\n"
          ]
        }
      ],
      "source": [
        "import torch\n",
        "import numpy as np\n",
        "import pandas as pd\n",
        "from ml4floods.models.utils import metrics\n",
        "\n",
        "# Otherwise fails when reading test dataset from remote bucket\n",
        "# torch.set_num_threads(1)\n",
        "\n",
        "thresholds_water = [0,1e-3,1e-2]+np.arange(0.5,.96,.05).tolist() + [.99,.995,.999]\n",
        "\n",
        "mets = metrics.compute_metrics(\n",
        "    dl,\n",
        "    inference_function,\n",
        "    mask_clouds=False,\n",
        "    convert_targets=False,\n",
        "    thresholds_water=thresholds_water,\n",
        "    plot=False)\n",
        "\n",
        "label_names = [\"land\", \"water\", \"cloud\"]\n",
        "metrics.plot_metrics(mets, label_names)"
      ],
      "id": "FclOS_sRUG5Z"
    },
    {
      "cell_type": "markdown",
      "metadata": {
        "id": "k3DMVImZUG5b"
      },
      "source": [
        "## Step 5: Compute the metrics for each flood in the test dataset"
      ],
      "id": "k3DMVImZUG5b"
    },
    {
      "cell_type": "code",
      "execution_count": null,
      "metadata": {
        "id": "8gh_PSETUG5c",
        "outputId": "90d9e302-5b32-4ec9-b46f-222ea6c157b2",
        "colab": {
          "base_uri": "https://localhost:8080/",
          "height": 275
        }
      },
      "outputs": [
        {
          "output_type": "stream",
          "name": "stdout",
          "text": [
            "Mean values across flood events: {'Recall_land': 89.14706110030056, 'Recall_water': 91.72994307314018, 'Recall_cloud': 97.21012154588949, 'IoU_land': 87.73418914523079, 'IoU_water': 74.11065148894407, 'IoU_cloud': 70.0152007262482}\n"
          ]
        },
        {
          "output_type": "execute_result",
          "data": {
            "text/plain": [
              "                     Recall_land  Recall_water  Recall_cloud   IoU_land  \\\n",
              "code                                                                      \n",
              "EMSR286 (Colombia)     95.775230     96.068488     98.995678  94.447091   \n",
              "EMSR333 (Italy)        90.770697     86.519387     99.119795  89.944669   \n",
              "EMSR342 (Australia)    69.547385     97.030021     91.994864  67.459669   \n",
              "EMSR347 (Malawi)       98.847444     81.699537     95.940271  96.859947   \n",
              "EMSR284 (Finland)      90.794550     97.332282    100.000000  89.959569   \n",
              "\n",
              "                     IoU_water  IoU_cloud  \n",
              "code                                       \n",
              "EMSR286 (Colombia)   85.008647  96.262742  \n",
              "EMSR333 (Italy)      59.832617  73.401532  \n",
              "EMSR342 (Australia)  72.339948  89.279442  \n",
              "EMSR347 (Malawi)     76.400101  91.132286  \n",
              "EMSR284 (Finland)    76.971944   0.000002  "
            ],
            "text/html": [
              "\n",
              "  <div id=\"df-12bd57f5-3afc-4af0-880a-f4ead4672e7b\" class=\"colab-df-container\">\n",
              "    <div>\n",
              "<style scoped>\n",
              "    .dataframe tbody tr th:only-of-type {\n",
              "        vertical-align: middle;\n",
              "    }\n",
              "\n",
              "    .dataframe tbody tr th {\n",
              "        vertical-align: top;\n",
              "    }\n",
              "\n",
              "    .dataframe thead th {\n",
              "        text-align: right;\n",
              "    }\n",
              "</style>\n",
              "<table border=\"1\" class=\"dataframe\">\n",
              "  <thead>\n",
              "    <tr style=\"text-align: right;\">\n",
              "      <th></th>\n",
              "      <th>Recall_land</th>\n",
              "      <th>Recall_water</th>\n",
              "      <th>Recall_cloud</th>\n",
              "      <th>IoU_land</th>\n",
              "      <th>IoU_water</th>\n",
              "      <th>IoU_cloud</th>\n",
              "    </tr>\n",
              "    <tr>\n",
              "      <th>code</th>\n",
              "      <th></th>\n",
              "      <th></th>\n",
              "      <th></th>\n",
              "      <th></th>\n",
              "      <th></th>\n",
              "      <th></th>\n",
              "    </tr>\n",
              "  </thead>\n",
              "  <tbody>\n",
              "    <tr>\n",
              "      <th>EMSR286 (Colombia)</th>\n",
              "      <td>95.775230</td>\n",
              "      <td>96.068488</td>\n",
              "      <td>98.995678</td>\n",
              "      <td>94.447091</td>\n",
              "      <td>85.008647</td>\n",
              "      <td>96.262742</td>\n",
              "    </tr>\n",
              "    <tr>\n",
              "      <th>EMSR333 (Italy)</th>\n",
              "      <td>90.770697</td>\n",
              "      <td>86.519387</td>\n",
              "      <td>99.119795</td>\n",
              "      <td>89.944669</td>\n",
              "      <td>59.832617</td>\n",
              "      <td>73.401532</td>\n",
              "    </tr>\n",
              "    <tr>\n",
              "      <th>EMSR342 (Australia)</th>\n",
              "      <td>69.547385</td>\n",
              "      <td>97.030021</td>\n",
              "      <td>91.994864</td>\n",
              "      <td>67.459669</td>\n",
              "      <td>72.339948</td>\n",
              "      <td>89.279442</td>\n",
              "    </tr>\n",
              "    <tr>\n",
              "      <th>EMSR347 (Malawi)</th>\n",
              "      <td>98.847444</td>\n",
              "      <td>81.699537</td>\n",
              "      <td>95.940271</td>\n",
              "      <td>96.859947</td>\n",
              "      <td>76.400101</td>\n",
              "      <td>91.132286</td>\n",
              "    </tr>\n",
              "    <tr>\n",
              "      <th>EMSR284 (Finland)</th>\n",
              "      <td>90.794550</td>\n",
              "      <td>97.332282</td>\n",
              "      <td>100.000000</td>\n",
              "      <td>89.959569</td>\n",
              "      <td>76.971944</td>\n",
              "      <td>0.000002</td>\n",
              "    </tr>\n",
              "  </tbody>\n",
              "</table>\n",
              "</div>\n",
              "    <div class=\"colab-df-buttons\">\n",
              "\n",
              "  <div class=\"colab-df-container\">\n",
              "    <button class=\"colab-df-convert\" onclick=\"convertToInteractive('df-12bd57f5-3afc-4af0-880a-f4ead4672e7b')\"\n",
              "            title=\"Convert this dataframe to an interactive table.\"\n",
              "            style=\"display:none;\">\n",
              "\n",
              "  <svg xmlns=\"http://www.w3.org/2000/svg\" height=\"24px\" viewBox=\"0 -960 960 960\">\n",
              "    <path d=\"M120-120v-720h720v720H120Zm60-500h600v-160H180v160Zm220 220h160v-160H400v160Zm0 220h160v-160H400v160ZM180-400h160v-160H180v160Zm440 0h160v-160H620v160ZM180-180h160v-160H180v160Zm440 0h160v-160H620v160Z\"/>\n",
              "  </svg>\n",
              "    </button>\n",
              "\n",
              "  <style>\n",
              "    .colab-df-container {\n",
              "      display:flex;\n",
              "      gap: 12px;\n",
              "    }\n",
              "\n",
              "    .colab-df-convert {\n",
              "      background-color: #E8F0FE;\n",
              "      border: none;\n",
              "      border-radius: 50%;\n",
              "      cursor: pointer;\n",
              "      display: none;\n",
              "      fill: #1967D2;\n",
              "      height: 32px;\n",
              "      padding: 0 0 0 0;\n",
              "      width: 32px;\n",
              "    }\n",
              "\n",
              "    .colab-df-convert:hover {\n",
              "      background-color: #E2EBFA;\n",
              "      box-shadow: 0px 1px 2px rgba(60, 64, 67, 0.3), 0px 1px 3px 1px rgba(60, 64, 67, 0.15);\n",
              "      fill: #174EA6;\n",
              "    }\n",
              "\n",
              "    .colab-df-buttons div {\n",
              "      margin-bottom: 4px;\n",
              "    }\n",
              "\n",
              "    [theme=dark] .colab-df-convert {\n",
              "      background-color: #3B4455;\n",
              "      fill: #D2E3FC;\n",
              "    }\n",
              "\n",
              "    [theme=dark] .colab-df-convert:hover {\n",
              "      background-color: #434B5C;\n",
              "      box-shadow: 0px 1px 3px 1px rgba(0, 0, 0, 0.15);\n",
              "      filter: drop-shadow(0px 1px 2px rgba(0, 0, 0, 0.3));\n",
              "      fill: #FFFFFF;\n",
              "    }\n",
              "  </style>\n",
              "\n",
              "    <script>\n",
              "      const buttonEl =\n",
              "        document.querySelector('#df-12bd57f5-3afc-4af0-880a-f4ead4672e7b button.colab-df-convert');\n",
              "      buttonEl.style.display =\n",
              "        google.colab.kernel.accessAllowed ? 'block' : 'none';\n",
              "\n",
              "      async function convertToInteractive(key) {\n",
              "        const element = document.querySelector('#df-12bd57f5-3afc-4af0-880a-f4ead4672e7b');\n",
              "        const dataTable =\n",
              "          await google.colab.kernel.invokeFunction('convertToInteractive',\n",
              "                                                    [key], {});\n",
              "        if (!dataTable) return;\n",
              "\n",
              "        const docLinkHtml = 'Like what you see? Visit the ' +\n",
              "          '<a target=\"_blank\" href=https://colab.research.google.com/notebooks/data_table.ipynb>data table notebook</a>'\n",
              "          + ' to learn more about interactive tables.';\n",
              "        element.innerHTML = '';\n",
              "        dataTable['output_type'] = 'display_data';\n",
              "        await google.colab.output.renderOutput(dataTable, element);\n",
              "        const docLink = document.createElement('div');\n",
              "        docLink.innerHTML = docLinkHtml;\n",
              "        element.appendChild(docLink);\n",
              "      }\n",
              "    </script>\n",
              "  </div>\n",
              "\n",
              "\n",
              "<div id=\"df-370db2a5-d497-408c-a2c5-ec5d8e17e3a8\">\n",
              "  <button class=\"colab-df-quickchart\" onclick=\"quickchart('df-370db2a5-d497-408c-a2c5-ec5d8e17e3a8')\"\n",
              "            title=\"Suggest charts\"\n",
              "            style=\"display:none;\">\n",
              "\n",
              "<svg xmlns=\"http://www.w3.org/2000/svg\" height=\"24px\"viewBox=\"0 0 24 24\"\n",
              "     width=\"24px\">\n",
              "    <g>\n",
              "        <path d=\"M19 3H5c-1.1 0-2 .9-2 2v14c0 1.1.9 2 2 2h14c1.1 0 2-.9 2-2V5c0-1.1-.9-2-2-2zM9 17H7v-7h2v7zm4 0h-2V7h2v10zm4 0h-2v-4h2v4z\"/>\n",
              "    </g>\n",
              "</svg>\n",
              "  </button>\n",
              "\n",
              "<style>\n",
              "  .colab-df-quickchart {\n",
              "      --bg-color: #E8F0FE;\n",
              "      --fill-color: #1967D2;\n",
              "      --hover-bg-color: #E2EBFA;\n",
              "      --hover-fill-color: #174EA6;\n",
              "      --disabled-fill-color: #AAA;\n",
              "      --disabled-bg-color: #DDD;\n",
              "  }\n",
              "\n",
              "  [theme=dark] .colab-df-quickchart {\n",
              "      --bg-color: #3B4455;\n",
              "      --fill-color: #D2E3FC;\n",
              "      --hover-bg-color: #434B5C;\n",
              "      --hover-fill-color: #FFFFFF;\n",
              "      --disabled-bg-color: #3B4455;\n",
              "      --disabled-fill-color: #666;\n",
              "  }\n",
              "\n",
              "  .colab-df-quickchart {\n",
              "    background-color: var(--bg-color);\n",
              "    border: none;\n",
              "    border-radius: 50%;\n",
              "    cursor: pointer;\n",
              "    display: none;\n",
              "    fill: var(--fill-color);\n",
              "    height: 32px;\n",
              "    padding: 0;\n",
              "    width: 32px;\n",
              "  }\n",
              "\n",
              "  .colab-df-quickchart:hover {\n",
              "    background-color: var(--hover-bg-color);\n",
              "    box-shadow: 0 1px 2px rgba(60, 64, 67, 0.3), 0 1px 3px 1px rgba(60, 64, 67, 0.15);\n",
              "    fill: var(--button-hover-fill-color);\n",
              "  }\n",
              "\n",
              "  .colab-df-quickchart-complete:disabled,\n",
              "  .colab-df-quickchart-complete:disabled:hover {\n",
              "    background-color: var(--disabled-bg-color);\n",
              "    fill: var(--disabled-fill-color);\n",
              "    box-shadow: none;\n",
              "  }\n",
              "\n",
              "  .colab-df-spinner {\n",
              "    border: 2px solid var(--fill-color);\n",
              "    border-color: transparent;\n",
              "    border-bottom-color: var(--fill-color);\n",
              "    animation:\n",
              "      spin 1s steps(1) infinite;\n",
              "  }\n",
              "\n",
              "  @keyframes spin {\n",
              "    0% {\n",
              "      border-color: transparent;\n",
              "      border-bottom-color: var(--fill-color);\n",
              "      border-left-color: var(--fill-color);\n",
              "    }\n",
              "    20% {\n",
              "      border-color: transparent;\n",
              "      border-left-color: var(--fill-color);\n",
              "      border-top-color: var(--fill-color);\n",
              "    }\n",
              "    30% {\n",
              "      border-color: transparent;\n",
              "      border-left-color: var(--fill-color);\n",
              "      border-top-color: var(--fill-color);\n",
              "      border-right-color: var(--fill-color);\n",
              "    }\n",
              "    40% {\n",
              "      border-color: transparent;\n",
              "      border-right-color: var(--fill-color);\n",
              "      border-top-color: var(--fill-color);\n",
              "    }\n",
              "    60% {\n",
              "      border-color: transparent;\n",
              "      border-right-color: var(--fill-color);\n",
              "    }\n",
              "    80% {\n",
              "      border-color: transparent;\n",
              "      border-right-color: var(--fill-color);\n",
              "      border-bottom-color: var(--fill-color);\n",
              "    }\n",
              "    90% {\n",
              "      border-color: transparent;\n",
              "      border-bottom-color: var(--fill-color);\n",
              "    }\n",
              "  }\n",
              "</style>\n",
              "\n",
              "  <script>\n",
              "    async function quickchart(key) {\n",
              "      const quickchartButtonEl =\n",
              "        document.querySelector('#' + key + ' button');\n",
              "      quickchartButtonEl.disabled = true;  // To prevent multiple clicks.\n",
              "      quickchartButtonEl.classList.add('colab-df-spinner');\n",
              "      try {\n",
              "        const charts = await google.colab.kernel.invokeFunction(\n",
              "            'suggestCharts', [key], {});\n",
              "      } catch (error) {\n",
              "        console.error('Error during call to suggestCharts:', error);\n",
              "      }\n",
              "      quickchartButtonEl.classList.remove('colab-df-spinner');\n",
              "      quickchartButtonEl.classList.add('colab-df-quickchart-complete');\n",
              "    }\n",
              "    (() => {\n",
              "      let quickchartButtonEl =\n",
              "        document.querySelector('#df-370db2a5-d497-408c-a2c5-ec5d8e17e3a8 button');\n",
              "      quickchartButtonEl.style.display =\n",
              "        google.colab.kernel.accessAllowed ? 'block' : 'none';\n",
              "    })();\n",
              "  </script>\n",
              "</div>\n",
              "    </div>\n",
              "  </div>\n"
            ],
            "application/vnd.google.colaboratory.intrinsic+json": {
              "type": "dataframe",
              "variable_name": "join_data_per_code",
              "summary": "{\n  \"name\": \"join_data_per_code\",\n  \"rows\": 5,\n  \"fields\": [\n    {\n      \"column\": \"code\",\n      \"properties\": {\n        \"dtype\": \"string\",\n        \"num_unique_values\": 5,\n        \"samples\": [\n          \"EMSR333 (Italy)\",\n          \"EMSR284 (Finland)\",\n          \"EMSR342 (Australia)\"\n        ],\n        \"semantic_type\": \"\",\n        \"description\": \"\"\n      }\n    },\n    {\n      \"column\": \"Recall_land\",\n      \"properties\": {\n        \"dtype\": \"number\",\n        \"std\": 11.483986197888123,\n        \"min\": 69.54738512307462,\n        \"max\": 98.84744369900736,\n        \"num_unique_values\": 5,\n        \"samples\": [\n          90.77069694608115,\n          90.79454974528994,\n          69.54738512307462\n        ],\n        \"semantic_type\": \"\",\n        \"description\": \"\"\n      }\n    },\n    {\n      \"column\": \"Recall_water\",\n      \"properties\": {\n        \"dtype\": \"number\",\n        \"std\": 7.17737666334047,\n        \"min\": 81.69953696643557,\n        \"max\": 97.33228216905829,\n        \"num_unique_values\": 5,\n        \"samples\": [\n          86.51938712716452,\n          97.33228216905829,\n          97.03002140839385\n        ],\n        \"semantic_type\": \"\",\n        \"description\": \"\"\n      }\n    },\n    {\n      \"column\": \"Recall_cloud\",\n      \"properties\": {\n        \"dtype\": \"number\",\n        \"std\": 3.2950689445390853,\n        \"min\": 91.99486393325108,\n        \"max\": 100.0,\n        \"num_unique_values\": 5,\n        \"samples\": [\n          99.11979469658965,\n          100.0,\n          91.99486393325108\n        ],\n        \"semantic_type\": \"\",\n        \"description\": \"\"\n      }\n    },\n    {\n      \"column\": \"IoU_land\",\n      \"properties\": {\n        \"dtype\": \"number\",\n        \"std\": 11.717904988847543,\n        \"min\": 67.45966948157206,\n        \"max\": 96.85994666185051,\n        \"num_unique_values\": 5,\n        \"samples\": [\n          89.94466905116424,\n          89.95956943393898,\n          67.45966948157206\n        ],\n        \"semantic_type\": \"\",\n        \"description\": \"\"\n      }\n    },\n    {\n      \"column\": \"IoU_water\",\n      \"properties\": {\n        \"dtype\": \"number\",\n        \"std\": 9.20859021310239,\n        \"min\": 59.832617238094066,\n        \"max\": 85.00864704559989,\n        \"num_unique_values\": 5,\n        \"samples\": [\n          59.832617238094066,\n          76.97194437686913,\n          72.33994803467317\n        ],\n        \"semantic_type\": \"\",\n        \"description\": \"\"\n      }\n    },\n    {\n      \"column\": \"IoU_cloud\",\n      \"properties\": {\n        \"dtype\": \"number\",\n        \"std\": 40.06111257864381,\n        \"min\": 2.173913090737241e-06,\n        \"max\": 96.26274186826295,\n        \"num_unique_values\": 5,\n        \"samples\": [\n          73.4015315791593,\n          2.173913090737241e-06,\n          89.27944187735916\n        ],\n        \"semantic_type\": \"\",\n        \"description\": \"\"\n      }\n    }\n  ]\n}"
            }
          },
          "metadata": {},
          "execution_count": 23
        }
      ],
      "source": [
        "CODES_LOC = {\"EMSR333\": \"EMSR333 (Italy)\",\n",
        "             \"EMSR9284\": \"EMSR284 (Finland)\",\n",
        "             \"EMSR347\": \"EMSR347 (Malawi)\",\n",
        "             \"EMSR286\": \"EMSR286 (Colombia)\",\n",
        "             \"EMSR342\": \"EMSR342 (Australia)\"\n",
        "            }\n",
        "\n",
        "if hasattr(dl.dataset, \"image_files\"):\n",
        "    cems_code = [os.path.basename(f).split(\"_\")[0] for f in dl.dataset.image_files]\n",
        "else:\n",
        "    cems_code = [os.path.basename(f.file_name).split(\"_\")[0] for f in dl.dataset.list_of_windows]\n",
        "\n",
        "iou_per_code = pd.DataFrame(metrics.group_confusion(mets[\"confusions\"],cems_code, metrics.calculate_iou,\n",
        "                                                    label_names=[f\"IoU_{l}\"for l in [\"land\", \"water\", \"cloud\"]]))\n",
        "\n",
        "recall_per_code = pd.DataFrame(metrics.group_confusion(mets[\"confusions\"],cems_code, metrics.calculate_recall,\n",
        "                                                       label_names=[f\"Recall_{l}\"for l in [\"land\", \"water\", \"cloud\"]]))\n",
        "\n",
        "join_data_per_code = pd.merge(recall_per_code,iou_per_code,on=\"code\")\n",
        "join_data_per_code[\"code\"] = join_data_per_code[\"code\"].apply(lambda x: CODES_LOC.get(x,x))\n",
        "join_data_per_code = join_data_per_code.set_index(\"code\")\n",
        "join_data_per_code = join_data_per_code*100\n",
        "print(f\"Mean values across flood events: {join_data_per_code.mean(axis=0).to_dict()}\")\n",
        "join_data_per_code"
      ],
      "id": "8gh_PSETUG5c"
    }
  ],
  "metadata": {
    "celltoolbar": "Edit Metadata",
    "kernelspec": {
      "display_name": "Python [conda env:ml4floods]",
      "language": "python",
      "name": "conda-env-ml4floods-py"
    },
    "language_info": {
      "codemirror_mode": {
        "name": "ipython",
        "version": 3
      },
      "file_extension": ".py",
      "mimetype": "text/x-python",
      "name": "python",
      "nbconvert_exporter": "python",
      "pygments_lexer": "ipython3",
      "version": "3.9.9"
    },
    "colab": {
      "provenance": [],
      "gpuType": "T4"
    },
    "accelerator": "GPU"
  },
  "nbformat": 4,
  "nbformat_minor": 5
}